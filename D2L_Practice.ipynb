{
  "nbformat": 4,
  "nbformat_minor": 0,
  "metadata": {
    "colab": {
      "provenance": [],
      "gpuType": "T4",
      "authorship_tag": "ABX9TyN2pTpKOnIXv4x3IbX56SXO",
      "include_colab_link": true
    },
    "kernelspec": {
      "name": "python3",
      "display_name": "Python 3"
    },
    "language_info": {
      "name": "python"
    },
    "accelerator": "GPU"
  },
  "cells": [
    {
      "cell_type": "markdown",
      "metadata": {
        "id": "view-in-github",
        "colab_type": "text"
      },
      "source": [
        "<a href=\"https://colab.research.google.com/github/lwx-3000/Deep_Neuron_Network/blob/main/D2L_Practice.ipynb\" target=\"_parent\"><img src=\"https://colab.research.google.com/assets/colab-badge.svg\" alt=\"Open In Colab\"/></a>"
      ]
    },
    {
      "cell_type": "code",
      "execution_count": null,
      "metadata": {
        "id": "KHz_Kn0DayTr"
      },
      "outputs": [],
      "source": []
    },
    {
      "cell_type": "code",
      "execution_count": null,
      "metadata": {
        "id": "LLs0SQZwTzwW"
      },
      "outputs": [],
      "source": [
        "import torch"
      ]
    },
    {
      "cell_type": "code",
      "source": [
        "x = torch.arange(4.0)\n",
        "x"
      ],
      "metadata": {
        "colab": {
          "base_uri": "https://localhost:8080/"
        },
        "id": "g5QJuSOuT4Ur",
        "outputId": "ed67a96a-504c-41ca-a1fc-dad09dbcb53b"
      },
      "execution_count": null,
      "outputs": [
        {
          "output_type": "execute_result",
          "data": {
            "text/plain": [
              "tensor([0., 1., 2., 3.])"
            ]
          },
          "metadata": {},
          "execution_count": 2
        }
      ]
    },
    {
      "cell_type": "code",
      "source": [
        "# Can also create x = torch.arange(4.0, requires_grad=True)\n",
        "x.requires_grad_(True)\n",
        "x.grad  # The gradient is None by default"
      ],
      "metadata": {
        "id": "f73rJp4wUGtk"
      },
      "execution_count": null,
      "outputs": []
    },
    {
      "cell_type": "code",
      "source": [
        "y = 2 * torch.dot(x, x)\n",
        "y"
      ],
      "metadata": {
        "colab": {
          "base_uri": "https://localhost:8080/"
        },
        "id": "aPsHpb3eUTR1",
        "outputId": "7afa76a0-ae8d-4f4b-cf75-9bd0d7c884eb"
      },
      "execution_count": null,
      "outputs": [
        {
          "output_type": "execute_result",
          "data": {
            "text/plain": [
              "tensor(28., grad_fn=<MulBackward0>)"
            ]
          },
          "metadata": {},
          "execution_count": 4
        }
      ]
    },
    {
      "cell_type": "markdown",
      "source": [
        "We can now take the gradient of y with respect to x by calling its backward method"
      ],
      "metadata": {
        "id": "hbHanrf0V3t7"
      }
    },
    {
      "cell_type": "code",
      "source": [
        "y.backward()\n",
        "x.grad"
      ],
      "metadata": {
        "colab": {
          "base_uri": "https://localhost:8080/"
        },
        "id": "MewZtnXPUy-p",
        "outputId": "a6947dc1-04dc-46cb-c18e-eb7c376d7ec3"
      },
      "execution_count": null,
      "outputs": [
        {
          "output_type": "execute_result",
          "data": {
            "text/plain": [
              "tensor([ 0.,  4.,  8., 12.])"
            ]
          },
          "metadata": {},
          "execution_count": 5
        }
      ]
    },
    {
      "cell_type": "code",
      "source": [
        "x.grad == 4*x"
      ],
      "metadata": {
        "colab": {
          "base_uri": "https://localhost:8080/"
        },
        "id": "NlpDCd1UVYzn",
        "outputId": "6c4560bf-a592-4319-e059-f08372435891"
      },
      "execution_count": null,
      "outputs": [
        {
          "output_type": "execute_result",
          "data": {
            "text/plain": [
              "tensor([True, True, True, True])"
            ]
          },
          "metadata": {},
          "execution_count": 6
        }
      ]
    },
    {
      "cell_type": "markdown",
      "source": [
        "We already know that the gradient of the function\n",
        " with respect to y = 2x^x\n",
        " should be 4x\n",
        ". We can now verify that the automatic gradient computation and the expected result are identical."
      ],
      "metadata": {
        "id": "nfJkq1ORVQzi"
      }
    },
    {
      "cell_type": "code",
      "source": [
        "x.grad.zero_()  # Reset the gradient\n",
        "y = x.sum()\n",
        "y.backward()\n",
        "x.grad"
      ],
      "metadata": {
        "colab": {
          "base_uri": "https://localhost:8080/"
        },
        "id": "Vc2dbm7XVjIt",
        "outputId": "23ee225f-d03f-4de8-8295-ec6623bd373a"
      },
      "execution_count": null,
      "outputs": [
        {
          "output_type": "execute_result",
          "data": {
            "text/plain": [
              "tensor([1., 1., 1., 1.])"
            ]
          },
          "metadata": {},
          "execution_count": 7
        }
      ]
    },
    {
      "cell_type": "code",
      "source": [
        "x.grad.zero_()\n",
        "y = x * x\n",
        "y.backward(gradient=torch.ones(len(y)))  # Faster: y.sum().backward()\n",
        "x.grad"
      ],
      "metadata": {
        "id": "eIKW26oxV7dk",
        "colab": {
          "base_uri": "https://localhost:8080/"
        },
        "outputId": "7321e2af-6a15-42c3-9097-78f200ed763e"
      },
      "execution_count": null,
      "outputs": [
        {
          "output_type": "execute_result",
          "data": {
            "text/plain": [
              "tensor([0., 2., 4., 6.])"
            ]
          },
          "metadata": {},
          "execution_count": 8
        }
      ]
    },
    {
      "cell_type": "code",
      "source": [
        "import torch\n",
        "from torch import nn\n",
        "from torch.nn import functional as F"
      ],
      "metadata": {
        "id": "jh2FCpzVq9tx"
      },
      "execution_count": null,
      "outputs": []
    },
    {
      "cell_type": "code",
      "source": [
        "net = nn.Sequential(nn.LazyLinear(256),nn.ReLU(),nn.LazyLinear(10))"
      ],
      "metadata": {
        "colab": {
          "base_uri": "https://localhost:8080/"
        },
        "id": "aHfwbAXMrLFj",
        "outputId": "6b27e145-784f-45b8-e00c-f11640b39acf"
      },
      "execution_count": null,
      "outputs": [
        {
          "output_type": "stream",
          "name": "stderr",
          "text": [
            "/usr/local/lib/python3.10/dist-packages/torch/nn/modules/lazy.py:180: UserWarning: Lazy modules are a new feature under heavy development so changes to the API or functionality can happen at any moment.\n",
            "  warnings.warn('Lazy modules are a new feature under heavy development '\n"
          ]
        }
      ]
    },
    {
      "cell_type": "code",
      "source": [
        "X = torch.randn(2,20)\n",
        "X"
      ],
      "metadata": {
        "colab": {
          "base_uri": "https://localhost:8080/"
        },
        "id": "7G9qbbOSruay",
        "outputId": "b1c169bb-1b16-461f-bad1-67b194452448"
      },
      "execution_count": null,
      "outputs": [
        {
          "output_type": "execute_result",
          "data": {
            "text/plain": [
              "tensor([[ 0.9350, -2.0579,  0.4345,  1.2436,  1.1165, -1.8421,  2.0251,  1.5906,\n",
              "         -0.2357,  1.2980, -1.3999, -0.5087, -0.0482,  0.5435, -0.9062, -0.5223,\n",
              "          0.0985,  0.1847,  0.0515,  0.0072],\n",
              "        [ 0.0229, -1.1472,  0.4754,  0.5048,  0.3474, -0.2435, -1.7911,  0.3995,\n",
              "          0.0367,  0.0201,  0.1241, -0.5395,  0.6898,  1.8902,  1.2307,  0.2173,\n",
              "         -0.8812, -0.8769,  1.2925, -1.6265]])"
            ]
          },
          "metadata": {},
          "execution_count": 11
        }
      ]
    },
    {
      "cell_type": "code",
      "source": [
        "X.shape"
      ],
      "metadata": {
        "colab": {
          "base_uri": "https://localhost:8080/"
        },
        "id": "5ns5A2yEuuB_",
        "outputId": "9377692b-5645-46d0-88c0-89da148de97f"
      },
      "execution_count": null,
      "outputs": [
        {
          "output_type": "execute_result",
          "data": {
            "text/plain": [
              "torch.Size([2, 20])"
            ]
          },
          "metadata": {},
          "execution_count": 12
        }
      ]
    },
    {
      "cell_type": "code",
      "source": [
        "net(X)"
      ],
      "metadata": {
        "colab": {
          "base_uri": "https://localhost:8080/"
        },
        "id": "dDJ1gtCnr-r7",
        "outputId": "90c38e37-3d3a-499d-fb6b-e5582a3ba631"
      },
      "execution_count": null,
      "outputs": [
        {
          "output_type": "execute_result",
          "data": {
            "text/plain": [
              "tensor([[-0.4512,  0.0970, -0.1323,  0.0497, -0.0230,  0.2717, -0.1658, -0.1481,\n",
              "          0.0221,  0.2958],\n",
              "        [ 0.0124, -0.2142, -0.0150, -0.2482,  0.2759,  0.2827, -0.0579,  0.1959,\n",
              "          0.0052,  0.2479]], grad_fn=<AddmmBackward0>)"
            ]
          },
          "metadata": {},
          "execution_count": 13
        }
      ]
    },
    {
      "cell_type": "code",
      "source": [
        "net.__call__(X)"
      ],
      "metadata": {
        "colab": {
          "base_uri": "https://localhost:8080/"
        },
        "id": "hm4Qvf9EtxcZ",
        "outputId": "ee5fb00c-9306-400d-bb65-f784511a2c3e"
      },
      "execution_count": null,
      "outputs": [
        {
          "output_type": "execute_result",
          "data": {
            "text/plain": [
              "tensor([[-0.4512,  0.0970, -0.1323,  0.0497, -0.0230,  0.2717, -0.1658, -0.1481,\n",
              "          0.0221,  0.2958],\n",
              "        [ 0.0124, -0.2142, -0.0150, -0.2482,  0.2759,  0.2827, -0.0579,  0.1959,\n",
              "          0.0052,  0.2479]], grad_fn=<AddmmBackward0>)"
            ]
          },
          "metadata": {},
          "execution_count": 14
        }
      ]
    },
    {
      "cell_type": "code",
      "source": [
        "class MLP(nn.Module):\n",
        "  def __init__(self):\n",
        "    # Call the constructor of the parent class nn.Module to perform\n",
        "    # the necessary initialization\n",
        "    super().__init__()\n",
        "    self.hidden = nn.LazyLinear(257)\n",
        "    self.out = nn.LazyLinear(10)\n",
        "\n",
        "  def forward(self, X):\n",
        "    return self.out(F.relu(self.hidden(X)))\n"
      ],
      "metadata": {
        "id": "VxqF_zXlu9HQ"
      },
      "execution_count": null,
      "outputs": []
    },
    {
      "cell_type": "code",
      "source": [
        "net = MLP()\n",
        "net(X).shape"
      ],
      "metadata": {
        "colab": {
          "base_uri": "https://localhost:8080/"
        },
        "id": "XNlSkdlNwLCu",
        "outputId": "b26cb540-2874-4c73-cb7c-9541830fd20d"
      },
      "execution_count": null,
      "outputs": [
        {
          "output_type": "execute_result",
          "data": {
            "text/plain": [
              "torch.Size([2, 10])"
            ]
          },
          "metadata": {},
          "execution_count": 16
        }
      ]
    },
    {
      "cell_type": "code",
      "source": [],
      "metadata": {
        "id": "S5AkgYlBBJNF"
      },
      "execution_count": null,
      "outputs": []
    },
    {
      "cell_type": "markdown",
      "source": [
        "### My-Sequential Model"
      ],
      "metadata": {
        "id": "sjQ59-WmBK1g"
      }
    },
    {
      "cell_type": "code",
      "source": [
        "class MySequential(nn.Module):\n",
        "  def __init__(self,*args):\n",
        "    super().__init__()\n",
        "    for idx, module in enumerate(args):\n",
        "      self.add_module(str(idx),module)\n",
        "\n",
        "  def forward(self,X):\n",
        "    for module in self.children():\n",
        "      X = module(X)\n",
        "    return X"
      ],
      "metadata": {
        "id": "-CvJdPCRBNRX"
      },
      "execution_count": null,
      "outputs": []
    },
    {
      "cell_type": "code",
      "source": [
        "net = MySequential(nn.LazyLinear(256),nn.ReLU(),nn.LazyLinear(10))\n",
        "net(X).shape"
      ],
      "metadata": {
        "colab": {
          "base_uri": "https://localhost:8080/"
        },
        "id": "8ERJjeLJCVF_",
        "outputId": "6e361b18-49d9-47c8-cf12-9ec820131c1e"
      },
      "execution_count": null,
      "outputs": [
        {
          "output_type": "execute_result",
          "data": {
            "text/plain": [
              "torch.Size([2, 10])"
            ]
          },
          "metadata": {},
          "execution_count": 18
        }
      ]
    },
    {
      "cell_type": "markdown",
      "source": [
        "It is the same as of using nn.Sequential()"
      ],
      "metadata": {
        "id": "tQoj6utoC1gV"
      }
    },
    {
      "cell_type": "code",
      "source": [
        "class FixedHiddenMLP(nn.Module):\n",
        "  def __init__(self):\n",
        "    super().__init__()\n",
        "    # Random weight parameters that will not compute gradients and\n",
        "    # therefore keep constant during training\n",
        "    self.rand_weight = torch.randn(20,20)\n",
        "    self.linear = nn.LazyLinear(20)\n",
        "  def forward(self,X):\n",
        "    X = self.linear(X)\n",
        "    X = F.relu(X @ self.rand_weight + 1)\n",
        "    # Reuse the fully connected layer. This is equivalent to sharing\n",
        "    # parameters with two fully connected layers\n",
        "    X = self.linear(X)\n",
        "    while X.abs().sum() > 1:\n",
        "      X /= 2\n",
        "    return X.sum()"
      ],
      "metadata": {
        "id": "N9aj2E1qJug3"
      },
      "execution_count": null,
      "outputs": []
    },
    {
      "cell_type": "code",
      "source": [
        "net = FixedHiddenMLP()\n",
        "net(X)"
      ],
      "metadata": {
        "colab": {
          "base_uri": "https://localhost:8080/"
        },
        "id": "0mo8h15WK-hq",
        "outputId": "08052db5-2e00-45bd-a03d-94a4f623ab03"
      },
      "execution_count": null,
      "outputs": [
        {
          "output_type": "execute_result",
          "data": {
            "text/plain": [
              "tensor(0.2951, grad_fn=<SumBackward0>)"
            ]
          },
          "metadata": {},
          "execution_count": 20
        }
      ]
    },
    {
      "cell_type": "markdown",
      "source": [
        "Note that \"module re-use\" of the self.linear() layer. First time X pass throught self.linear() layer and been transformed by it, then X pass through self.linear the second time, transformed by the same weights on this layer.  "
      ],
      "metadata": {
        "id": "qOY1SSUOQV5O"
      }
    },
    {
      "cell_type": "markdown",
      "source": [
        "mix and match various ways of assembling modules together(Net and layer)"
      ],
      "metadata": {
        "id": "u9E5mY6YR3cq"
      }
    },
    {
      "cell_type": "code",
      "source": [
        "class NestMLP(nn.Module):\n",
        "  def __init__(self):\n",
        "    super().__init__()\n",
        "    self.net = nn.Sequential(nn.LazyLinear(64),nn.ReLU(),\n",
        "                             nn.LazyLinear(32),nn.ReLU())\n",
        "    self.linear = nn.LazyLinear(16)\n",
        "\n",
        "  def forward(self,X):\n",
        "    return self.linear(self.net(X))\n",
        "\n",
        "chimera =  nn.Sequential(NestMLP(),nn.LazyLinear(20),FixedHiddenMLP())\n",
        "chimera(X)"
      ],
      "metadata": {
        "colab": {
          "base_uri": "https://localhost:8080/"
        },
        "id": "gpW4ibYkQVOa",
        "outputId": "547debd8-e41b-4977-d2e3-72f8e1ab0dd6"
      },
      "execution_count": null,
      "outputs": [
        {
          "output_type": "execute_result",
          "data": {
            "text/plain": [
              "tensor(0.1811, grad_fn=<SumBackward0>)"
            ]
          },
          "metadata": {},
          "execution_count": 21
        }
      ]
    },
    {
      "cell_type": "code",
      "source": [],
      "metadata": {
        "id": "zvlkDGdiQNbU"
      },
      "execution_count": null,
      "outputs": []
    },
    {
      "cell_type": "markdown",
      "source": [
        "Conclusion:\n",
        "\n",
        "\n",
        "*   Every individual layer can be a module, a group of layers can also be a module.\n",
        "* A modlue is represented by a class. Every subclass of it must contains\n",
        "\n",
        "1.   a forward propergation (transform input into output)\n",
        "\n",
        "2.   must store any\n",
        "necessary parameters.\n",
        "3. a module must possess a backpropergation method (for gradient calculation)\n",
        "\n",
        "*   A module can contain code, module can take care of housekeeping, including parameter initialization and backpropergation. Sequential module handles seuqential concatenation of layers and modules.\n",
        "\n",
        "\n"
      ],
      "metadata": {
        "id": "oPb5yEedDKkP"
      }
    },
    {
      "cell_type": "code",
      "source": [],
      "metadata": {
        "id": "pX9T55QZC1QK"
      },
      "execution_count": null,
      "outputs": []
    },
    {
      "cell_type": "markdown",
      "source": [
        "####6.2 Parameter Management"
      ],
      "metadata": {
        "id": "q1imxC7QL0hN"
      }
    },
    {
      "cell_type": "code",
      "source": [
        "import torch\n",
        "from torch import nn"
      ],
      "metadata": {
        "id": "p9vFuwFZCxSq"
      },
      "execution_count": null,
      "outputs": []
    },
    {
      "cell_type": "code",
      "source": [
        "net = nn.Sequential(nn.LazyLinear(6),nn.ReLU(),nn.LazyLinear(4),nn.ReLU(),nn.LazyLinear(2))\n",
        "X = torch.randn(size=(2,3))\n",
        "net(X).shape"
      ],
      "metadata": {
        "colab": {
          "base_uri": "https://localhost:8080/"
        },
        "id": "8rKVqGNnMDYp",
        "outputId": "b3ac7901-1126-463e-c858-171a94cb96a7"
      },
      "execution_count": null,
      "outputs": [
        {
          "output_type": "execute_result",
          "data": {
            "text/plain": [
              "torch.Size([2, 2])"
            ]
          },
          "metadata": {},
          "execution_count": 23
        }
      ]
    },
    {
      "cell_type": "code",
      "source": [
        "net[0].state_dict()"
      ],
      "metadata": {
        "colab": {
          "base_uri": "https://localhost:8080/"
        },
        "id": "qvPCodSSMfLV",
        "outputId": "bc526bf6-eb8f-478f-bcf0-648b3d0959cd"
      },
      "execution_count": null,
      "outputs": [
        {
          "output_type": "execute_result",
          "data": {
            "text/plain": [
              "OrderedDict([('weight',\n",
              "              tensor([[ 0.2266,  0.1845,  0.3314],\n",
              "                      [-0.0744,  0.0695, -0.0480],\n",
              "                      [-0.4897, -0.3322,  0.0885],\n",
              "                      [ 0.0252,  0.3941,  0.2883],\n",
              "                      [-0.1178,  0.5056, -0.3219],\n",
              "                      [ 0.1745, -0.4859, -0.5362]])),\n",
              "             ('bias',\n",
              "              tensor([-0.3233, -0.2404,  0.5011, -0.5556,  0.4311, -0.4701]))])"
            ]
          },
          "metadata": {},
          "execution_count": 24
        }
      ]
    },
    {
      "cell_type": "code",
      "source": [
        "net[2].state_dict()"
      ],
      "metadata": {
        "colab": {
          "base_uri": "https://localhost:8080/"
        },
        "id": "paqrzrA4P18c",
        "outputId": "eb29e627-314c-488d-f3b9-38f91de77fc5"
      },
      "execution_count": null,
      "outputs": [
        {
          "output_type": "execute_result",
          "data": {
            "text/plain": [
              "OrderedDict([('weight',\n",
              "              tensor([[-0.1588, -0.3976,  0.1305, -0.2323,  0.1231, -0.1619],\n",
              "                      [-0.1375, -0.3609, -0.3186, -0.3507,  0.0884,  0.3285],\n",
              "                      [ 0.3923, -0.2840,  0.0198,  0.3775, -0.2475, -0.3222],\n",
              "                      [ 0.3025, -0.1752, -0.1813, -0.1560,  0.3943, -0.2000]])),\n",
              "             ('bias', tensor([-0.3351, -0.1726,  0.1295, -0.3815]))])"
            ]
          },
          "metadata": {},
          "execution_count": 25
        }
      ]
    },
    {
      "cell_type": "code",
      "source": [
        "net[4].state_dict()"
      ],
      "metadata": {
        "colab": {
          "base_uri": "https://localhost:8080/"
        },
        "id": "7h93yWDFQXbL",
        "outputId": "bfb516cc-3bf1-4930-8b20-b162f4a7d8f6"
      },
      "execution_count": null,
      "outputs": [
        {
          "output_type": "execute_result",
          "data": {
            "text/plain": [
              "OrderedDict([('weight',\n",
              "              tensor([[-0.2778, -0.2521, -0.1469,  0.1210],\n",
              "                      [ 0.3330,  0.1358, -0.4023,  0.4267]])),\n",
              "             ('bias', tensor([ 0.0163, -0.0188]))])"
            ]
          },
          "metadata": {},
          "execution_count": 26
        }
      ]
    },
    {
      "cell_type": "markdown",
      "source": [
        "Looks like: net[0] , net[1] are the first layer parameters and ReLU object, since input is flatten into 1 dimension.\n",
        "\n",
        "And net[2] , net[3] are the second layer P and ReLU. Parameter layers has the width of previous layers(=6) and layer number of current layer(=4), so it is 4x6.  Bias remains to be 1x4.\n",
        "\n",
        "So do net[4] , net[5] they are the P(2x4) and B(1x2), ReLU object of layer 3 (output layer).\n"
      ],
      "metadata": {
        "id": "LMyF3mnGPIZa"
      }
    },
    {
      "cell_type": "code",
      "source": [
        "type(net[0].bias), net[0].bias.data, net[0].weight.data"
      ],
      "metadata": {
        "colab": {
          "base_uri": "https://localhost:8080/"
        },
        "id": "9sCHe38iQ7CZ",
        "outputId": "efc8d6e7-07de-4b08-b2d8-4f45a8d33792"
      },
      "execution_count": null,
      "outputs": [
        {
          "output_type": "execute_result",
          "data": {
            "text/plain": [
              "(torch.nn.parameter.Parameter,\n",
              " tensor([-0.3233, -0.2404,  0.5011, -0.5556,  0.4311, -0.4701]),\n",
              " tensor([[ 0.2266,  0.1845,  0.3314],\n",
              "         [-0.0744,  0.0695, -0.0480],\n",
              "         [-0.4897, -0.3322,  0.0885],\n",
              "         [ 0.0252,  0.3941,  0.2883],\n",
              "         [-0.1178,  0.5056, -0.3219],\n",
              "         [ 0.1745, -0.4859, -0.5362]]))"
            ]
          },
          "metadata": {},
          "execution_count": 27
        }
      ]
    },
    {
      "cell_type": "code",
      "source": [
        "# In addition to the value,\n",
        "# each parameter also allows us to access the gradient.\n",
        "# Because we have not invoked backpropagation for this network yet,\n",
        "# it is in its initial state.\n",
        "net[0].weight.grad == None"
      ],
      "metadata": {
        "colab": {
          "base_uri": "https://localhost:8080/"
        },
        "id": "iT-P7I2gTaBm",
        "outputId": "530520bf-05c0-4fee-a7de-4c37520d0fa6"
      },
      "execution_count": null,
      "outputs": [
        {
          "output_type": "execute_result",
          "data": {
            "text/plain": [
              "True"
            ]
          },
          "metadata": {},
          "execution_count": 28
        }
      ]
    },
    {
      "cell_type": "markdown",
      "source": [
        "All Parameters at Once"
      ],
      "metadata": {
        "id": "R-hjLkLdUPPV"
      }
    },
    {
      "cell_type": "code",
      "source": [
        "[(name,param) for name, param in net.named_parameters()]"
      ],
      "metadata": {
        "colab": {
          "base_uri": "https://localhost:8080/"
        },
        "id": "bK8w4mqNUFAZ",
        "outputId": "80af98e6-4d22-438d-f165-4619357c9d69"
      },
      "execution_count": null,
      "outputs": [
        {
          "output_type": "execute_result",
          "data": {
            "text/plain": [
              "[('0.weight',\n",
              "  Parameter containing:\n",
              "  tensor([[-0.3711,  0.2248,  0.1502],\n",
              "          [-0.1330, -0.3535,  0.1657],\n",
              "          [ 0.2067,  0.4931, -0.5007],\n",
              "          [-0.5081,  0.0558,  0.2863],\n",
              "          [-0.0808,  0.0957,  0.1473],\n",
              "          [-0.0140,  0.0881, -0.1280],\n",
              "          [ 0.0515, -0.5077,  0.3828],\n",
              "          [-0.5431,  0.3533,  0.0402]], requires_grad=True)),\n",
              " ('0.bias',\n",
              "  Parameter containing:\n",
              "  tensor([-0.3401, -0.2928, -0.4185, -0.1395, -0.0291, -0.2578,  0.5385, -0.2797],\n",
              "         requires_grad=True)),\n",
              " ('2.weight',\n",
              "  Parameter containing:\n",
              "  tensor([[ 1.0000e+02,  1.1377e-01,  1.9768e-01, -2.4250e-01,  2.2349e-01,\n",
              "            3.4374e-01,  1.2180e-01, -1.0737e-02],\n",
              "          [ 1.3921e-01,  2.9514e-01, -2.5366e-03, -1.4292e-01,  3.0224e-01,\n",
              "           -1.3272e-01,  6.3063e-03,  7.7187e-02],\n",
              "          [ 7.3096e-02, -3.0710e-01, -2.6736e-01, -3.0408e-01,  2.3661e-01,\n",
              "            2.9456e-01,  2.3402e-01,  6.9717e-02],\n",
              "          [-1.4744e-01, -2.4281e-01,  1.7768e-01,  5.7606e-02, -6.3090e-02,\n",
              "           -6.8345e-02,  3.0552e-01, -3.2464e-01],\n",
              "          [-1.0759e-02,  1.3336e-01,  1.6595e-01, -3.3030e-01,  1.4434e-01,\n",
              "            2.4235e-01,  2.4606e-01, -2.4454e-03],\n",
              "          [ 2.6882e-01, -3.1944e-01, -8.2148e-03,  3.1549e-01, -5.9663e-02,\n",
              "           -3.4865e-02,  9.1708e-02, -2.4637e-01],\n",
              "          [ 2.6820e-01,  1.9434e-01, -3.4410e-01,  2.1490e-01, -2.0636e-01,\n",
              "            1.6254e-01,  2.4952e-02,  5.1661e-02],\n",
              "          [ 3.1639e-01, -1.4519e-01,  1.5717e-01, -2.5498e-01,  1.9064e-01,\n",
              "            2.6032e-01, -1.6944e-01,  1.2312e-01]], requires_grad=True)),\n",
              " ('2.bias',\n",
              "  Parameter containing:\n",
              "  tensor([-0.0021, -0.1177,  0.0372, -0.2288, -0.0628, -0.1582, -0.0439, -0.2224],\n",
              "         requires_grad=True)),\n",
              " ('6.weight',\n",
              "  Parameter containing:\n",
              "  tensor([[-0.3491,  0.1699,  0.2249,  0.1794, -0.2943, -0.2506,  0.2686,  0.1856]],\n",
              "         requires_grad=True)),\n",
              " ('6.bias',\n",
              "  Parameter containing:\n",
              "  tensor([-0.0621], requires_grad=True))]"
            ]
          },
          "metadata": {},
          "execution_count": 38
        }
      ]
    },
    {
      "cell_type": "markdown",
      "source": [
        "net.named_parameters() contains name, and parameters. And parameters contains weight, bias, gradients."
      ],
      "metadata": {
        "id": "BoaS-7XBUuwl"
      }
    },
    {
      "cell_type": "code",
      "source": [],
      "metadata": {
        "id": "0GQod1iwWxlv"
      },
      "execution_count": null,
      "outputs": []
    },
    {
      "cell_type": "code",
      "source": [],
      "metadata": {
        "id": "sC86165wUtdr"
      },
      "execution_count": null,
      "outputs": []
    },
    {
      "cell_type": "markdown",
      "source": [
        "#### Tied Parameters"
      ],
      "metadata": {
        "id": "vUGZEDCwWyZO"
      }
    },
    {
      "cell_type": "code",
      "source": [
        "# We need to give the shared layer a name so that we can refer to its\n",
        "# parameters\n",
        "\n",
        "shared = nn.LazyLinear(8)\n",
        "net = nn.Sequential(nn.LazyLinear(8), nn.ReLU(),\n",
        "                    shared, nn.ReLU(),\n",
        "                    shared, nn.ReLU(),\n",
        "                    nn.LazyLinear(1))\n",
        "\n",
        "net(X)\n",
        "# Check whether the parameters are the same\n",
        "print(net[2].weight.data[0] == net[4].weight.data[0])\n",
        "\n",
        "# What if we change the value of a spcific parameter\n",
        "net[2].weight.data[0, 0] = 100\n",
        "# Make sure that they are actually the same object rather than just having the\n",
        "# same value\n",
        "print(net[2].weight.data[0] == net[4].weight.data[0])\n"
      ],
      "metadata": {
        "colab": {
          "base_uri": "https://localhost:8080/"
        },
        "id": "T9HvmWoVW2sf",
        "outputId": "7a29bd4a-18ed-4582-9192-98c14e55acb4"
      },
      "execution_count": null,
      "outputs": [
        {
          "output_type": "stream",
          "name": "stdout",
          "text": [
            "tensor([True, True, True, True, True, True, True, True])\n",
            "tensor([True, True, True, True, True, True, True, True])\n"
          ]
        }
      ]
    },
    {
      "cell_type": "markdown",
      "source": [
        "This example shows that how to tie the 2nd and 3rd layer of parameter. The 2nd and 3rd are not only have the same value. **They are the same tensor**. Thus we change one of the parameter, the other one changes too.\n",
        "\n",
        "---\n",
        "\n",
        "You might wonder, when parameters are tied what happens to the gradients? Since the model parameters contain gradients, the gradients of the second hidden layer and the third hidden layer are added together during backpropagation.![Screen Shot 2024-01-19 at 4.24.29 PM.png](data:image/png;base64,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)\n",
        "\n"
      ],
      "metadata": {
        "id": "LE-AzXIFZCnZ"
      }
    },
    {
      "cell_type": "code",
      "source": [
        "print(net.state_dict())"
      ],
      "metadata": {
        "id": "RmPiDxbsY8KY",
        "colab": {
          "base_uri": "https://localhost:8080/"
        },
        "outputId": "ca4e73b2-5b90-4751-e5f4-5f885f3a8b00"
      },
      "execution_count": null,
      "outputs": [
        {
          "output_type": "stream",
          "name": "stdout",
          "text": [
            "OrderedDict([('0.weight', tensor([[-0.3711,  0.2248,  0.1502],\n",
            "        [-0.1330, -0.3535,  0.1657],\n",
            "        [ 0.2067,  0.4931, -0.5007],\n",
            "        [-0.5081,  0.0558,  0.2863],\n",
            "        [-0.0808,  0.0957,  0.1473],\n",
            "        [-0.0140,  0.0881, -0.1280],\n",
            "        [ 0.0515, -0.5077,  0.3828],\n",
            "        [-0.5431,  0.3533,  0.0402]])), ('0.bias', tensor([-0.3401, -0.2928, -0.4185, -0.1395, -0.0291, -0.2578,  0.5385, -0.2797])), ('2.weight', tensor([[ 1.0000e+02,  1.1377e-01,  1.9768e-01, -2.4250e-01,  2.2349e-01,\n",
            "          3.4374e-01,  1.2180e-01, -1.0737e-02],\n",
            "        [ 1.3921e-01,  2.9514e-01, -2.5366e-03, -1.4292e-01,  3.0224e-01,\n",
            "         -1.3272e-01,  6.3063e-03,  7.7187e-02],\n",
            "        [ 7.3096e-02, -3.0710e-01, -2.6736e-01, -3.0408e-01,  2.3661e-01,\n",
            "          2.9456e-01,  2.3402e-01,  6.9717e-02],\n",
            "        [-1.4744e-01, -2.4281e-01,  1.7768e-01,  5.7606e-02, -6.3090e-02,\n",
            "         -6.8345e-02,  3.0552e-01, -3.2464e-01],\n",
            "        [-1.0759e-02,  1.3336e-01,  1.6595e-01, -3.3030e-01,  1.4434e-01,\n",
            "          2.4235e-01,  2.4606e-01, -2.4454e-03],\n",
            "        [ 2.6882e-01, -3.1944e-01, -8.2148e-03,  3.1549e-01, -5.9663e-02,\n",
            "         -3.4865e-02,  9.1708e-02, -2.4637e-01],\n",
            "        [ 2.6820e-01,  1.9434e-01, -3.4410e-01,  2.1490e-01, -2.0636e-01,\n",
            "          1.6254e-01,  2.4952e-02,  5.1661e-02],\n",
            "        [ 3.1639e-01, -1.4519e-01,  1.5717e-01, -2.5498e-01,  1.9064e-01,\n",
            "          2.6032e-01, -1.6944e-01,  1.2312e-01]])), ('2.bias', tensor([-0.0021, -0.1177,  0.0372, -0.2288, -0.0628, -0.1582, -0.0439, -0.2224])), ('4.weight', tensor([[ 1.0000e+02,  1.1377e-01,  1.9768e-01, -2.4250e-01,  2.2349e-01,\n",
            "          3.4374e-01,  1.2180e-01, -1.0737e-02],\n",
            "        [ 1.3921e-01,  2.9514e-01, -2.5366e-03, -1.4292e-01,  3.0224e-01,\n",
            "         -1.3272e-01,  6.3063e-03,  7.7187e-02],\n",
            "        [ 7.3096e-02, -3.0710e-01, -2.6736e-01, -3.0408e-01,  2.3661e-01,\n",
            "          2.9456e-01,  2.3402e-01,  6.9717e-02],\n",
            "        [-1.4744e-01, -2.4281e-01,  1.7768e-01,  5.7606e-02, -6.3090e-02,\n",
            "         -6.8345e-02,  3.0552e-01, -3.2464e-01],\n",
            "        [-1.0759e-02,  1.3336e-01,  1.6595e-01, -3.3030e-01,  1.4434e-01,\n",
            "          2.4235e-01,  2.4606e-01, -2.4454e-03],\n",
            "        [ 2.6882e-01, -3.1944e-01, -8.2148e-03,  3.1549e-01, -5.9663e-02,\n",
            "         -3.4865e-02,  9.1708e-02, -2.4637e-01],\n",
            "        [ 2.6820e-01,  1.9434e-01, -3.4410e-01,  2.1490e-01, -2.0636e-01,\n",
            "          1.6254e-01,  2.4952e-02,  5.1661e-02],\n",
            "        [ 3.1639e-01, -1.4519e-01,  1.5717e-01, -2.5498e-01,  1.9064e-01,\n",
            "          2.6032e-01, -1.6944e-01,  1.2312e-01]])), ('4.bias', tensor([-0.0021, -0.1177,  0.0372, -0.2288, -0.0628, -0.1582, -0.0439, -0.2224])), ('6.weight', tensor([[-0.3491,  0.1699,  0.2249,  0.1794, -0.2943, -0.2506,  0.2686,  0.1856]])), ('6.bias', tensor([-0.0621]))])\n"
          ]
        }
      ]
    },
    {
      "cell_type": "code",
      "source": [
        "print(net)"
      ],
      "metadata": {
        "colab": {
          "base_uri": "https://localhost:8080/"
        },
        "id": "234wZsPObX2D",
        "outputId": "6053a60b-3057-4111-842e-f2a30246e00b"
      },
      "execution_count": null,
      "outputs": [
        {
          "output_type": "stream",
          "name": "stdout",
          "text": [
            "Sequential(\n",
            "  (0): Linear(in_features=3, out_features=8, bias=True)\n",
            "  (1): ReLU()\n",
            "  (2): Linear(in_features=8, out_features=8, bias=True)\n",
            "  (3): ReLU()\n",
            "  (4): Linear(in_features=8, out_features=8, bias=True)\n",
            "  (5): ReLU()\n",
            "  (6): Linear(in_features=8, out_features=1, bias=True)\n",
            ")\n"
          ]
        }
      ]
    },
    {
      "cell_type": "code",
      "source": [
        "def block1():\n",
        "  return nn.Sequential(nn.LazyLinear(8),nn.ReLU(),\n",
        "                       nn.LazyLinear(4),nn.ReLU())\n",
        "\n",
        "def block2():\n",
        "  net = nn.Sequential()\n",
        "  for i in range(4):\n",
        "    net.add_module(f'block {i}', block1()) # string literals f '{i}' for parameter i\n",
        "  return net\n",
        "\n",
        "rgnet = nn.Sequential(block2(), nn.LazyLinear(2))\n",
        "print(rgnet(X))"
      ],
      "metadata": {
        "colab": {
          "base_uri": "https://localhost:8080/"
        },
        "id": "-z9GeR8abavm",
        "outputId": "0e1c8b5c-159b-4780-f78d-cf7b0b7af6c2"
      },
      "execution_count": null,
      "outputs": [
        {
          "output_type": "stream",
          "name": "stdout",
          "text": [
            "tensor([[0.1251, 0.2327],\n",
            "        [0.1251, 0.2327]], grad_fn=<AddmmBackward0>)\n"
          ]
        },
        {
          "output_type": "stream",
          "name": "stderr",
          "text": [
            "/usr/local/lib/python3.10/dist-packages/torch/nn/modules/lazy.py:180: UserWarning: Lazy modules are a new feature under heavy development so changes to the API or functionality can happen at any moment.\n",
            "  warnings.warn('Lazy modules are a new feature under heavy development '\n"
          ]
        }
      ]
    },
    {
      "cell_type": "code",
      "source": [
        "print(rgnet)"
      ],
      "metadata": {
        "colab": {
          "base_uri": "https://localhost:8080/"
        },
        "id": "qxUpyl98cpEL",
        "outputId": "2ce1e3aa-8a69-47ec-8e43-a4ebff512682"
      },
      "execution_count": null,
      "outputs": [
        {
          "output_type": "stream",
          "name": "stdout",
          "text": [
            "Sequential(\n",
            "  (0): Sequential(\n",
            "    (block 0): Sequential(\n",
            "      (0): Linear(in_features=3, out_features=8, bias=True)\n",
            "      (1): ReLU()\n",
            "      (2): Linear(in_features=8, out_features=4, bias=True)\n",
            "      (3): ReLU()\n",
            "    )\n",
            "    (block 1): Sequential(\n",
            "      (0): Linear(in_features=4, out_features=8, bias=True)\n",
            "      (1): ReLU()\n",
            "      (2): Linear(in_features=8, out_features=4, bias=True)\n",
            "      (3): ReLU()\n",
            "    )\n",
            "    (block 2): Sequential(\n",
            "      (0): Linear(in_features=4, out_features=8, bias=True)\n",
            "      (1): ReLU()\n",
            "      (2): Linear(in_features=8, out_features=4, bias=True)\n",
            "      (3): ReLU()\n",
            "    )\n",
            "    (block 3): Sequential(\n",
            "      (0): Linear(in_features=4, out_features=8, bias=True)\n",
            "      (1): ReLU()\n",
            "      (2): Linear(in_features=8, out_features=4, bias=True)\n",
            "      (3): ReLU()\n",
            "    )\n",
            "  )\n",
            "  (1): Linear(in_features=4, out_features=2, bias=True)\n",
            ")\n"
          ]
        }
      ]
    },
    {
      "cell_type": "code",
      "source": [
        "X.shape"
      ],
      "metadata": {
        "colab": {
          "base_uri": "https://localhost:8080/"
        },
        "id": "CsfjrYJMdsTe",
        "outputId": "240cad5a-e4c3-4a34-eb4d-e3eb376895e1"
      },
      "execution_count": null,
      "outputs": [
        {
          "output_type": "execute_result",
          "data": {
            "text/plain": [
              "torch.Size([2, 3])"
            ]
          },
          "metadata": {},
          "execution_count": 55
        }
      ]
    },
    {
      "cell_type": "code",
      "source": [
        "rgnet[0][0][2].bias.data #first block, first sub_block, second layer"
      ],
      "metadata": {
        "colab": {
          "base_uri": "https://localhost:8080/"
        },
        "id": "AMYJsLfNc3ej",
        "outputId": "4088f319-3d36-446d-f116-9e1f1fb1ff78"
      },
      "execution_count": null,
      "outputs": [
        {
          "output_type": "execute_result",
          "data": {
            "text/plain": [
              "tensor([-0.2685, -0.0414,  0.1326, -0.2902])"
            ]
          },
          "metadata": {},
          "execution_count": 58
        }
      ]
    },
    {
      "cell_type": "markdown",
      "source": [
        "###6.3 Parameter Initialization"
      ],
      "metadata": {
        "id": "rtLftm94gxRd"
      }
    },
    {
      "cell_type": "code",
      "source": [
        "import torch\n",
        "from torch import nn"
      ],
      "metadata": {
        "id": "0wBUeYz7gvfv"
      },
      "execution_count": null,
      "outputs": []
    },
    {
      "cell_type": "code",
      "source": [
        "net = nn.Sequential(nn.LazyLinear(8), nn.ReLU(), nn.LazyLinear(1))\n",
        "X = torch.rand(size=(2, 4))\n",
        "net(X).shape"
      ],
      "metadata": {
        "colab": {
          "base_uri": "https://localhost:8080/"
        },
        "id": "MF5PlR1WiygH",
        "outputId": "d4376ee7-c1b4-4572-8d8d-8515656f1bcb"
      },
      "execution_count": null,
      "outputs": [
        {
          "output_type": "stream",
          "name": "stderr",
          "text": [
            "/usr/local/lib/python3.10/dist-packages/torch/nn/modules/lazy.py:180: UserWarning: Lazy modules are a new feature under heavy development so changes to the API or functionality can happen at any moment.\n",
            "  warnings.warn('Lazy modules are a new feature under heavy development '\n"
          ]
        },
        {
          "output_type": "execute_result",
          "data": {
            "text/plain": [
              "torch.Size([2, 1])"
            ]
          },
          "metadata": {},
          "execution_count": 63
        }
      ]
    },
    {
      "cell_type": "markdown",
      "source": [
        "####6.3.1. Built-in Initialization"
      ],
      "metadata": {
        "id": "kLTT8bmdinaF"
      }
    },
    {
      "cell_type": "code",
      "source": [
        "def init_normal(module):\n",
        "  if type(module) == nn.Linear:\n",
        "    nn.init.normal_(module.weight, mean=0, std=0.1) # bot normal_ and zeros_ with under score \"_\" means:\n",
        "    nn.init.zeros_(module.bias)                     # instead of return a new tensor, it will MODIFY the original tensor inplace.\n",
        "net.apply(init_normal) # apply function apply function \"init_normal\" to all modules (and its sub_modules) iteratively.\n",
        "net[0].weight.data[0], net[0].bias.data[0]"
      ],
      "metadata": {
        "colab": {
          "base_uri": "https://localhost:8080/"
        },
        "id": "GfrArP8Sikzv",
        "outputId": "0980785b-a6c2-41f7-96d6-349e1ece0081"
      },
      "execution_count": null,
      "outputs": [
        {
          "output_type": "execute_result",
          "data": {
            "text/plain": [
              "(tensor([ 0.0673,  0.0651, -0.0119, -0.1592]), tensor(0.))"
            ]
          },
          "metadata": {},
          "execution_count": 67
        }
      ]
    },
    {
      "cell_type": "code",
      "source": [
        "def init_constant(module):\n",
        "  if type(module) == nn.Linear:\n",
        "    nn.init.constant_(module.weight, 1)\n",
        "    nn.init.zeros_(module.bias)\n",
        "net.apply(init_constant)\n",
        "\n",
        "net[0].weight.data[0], net[0].bias.data[0]"
      ],
      "metadata": {
        "colab": {
          "base_uri": "https://localhost:8080/"
        },
        "id": "xMPBOH8WuLzr",
        "outputId": "4027eb5f-0086-4354-8322-3a0cb27a5a1b"
      },
      "execution_count": null,
      "outputs": [
        {
          "output_type": "execute_result",
          "data": {
            "text/plain": [
              "(tensor([1., 1., 1., 1.]), tensor(0.))"
            ]
          },
          "metadata": {},
          "execution_count": 76
        }
      ]
    },
    {
      "cell_type": "code",
      "source": [
        "def init_xavier(module):\n",
        "  if type(module) == nn.Linear:\n",
        "    nn.init.xavier_uniform(module.weight)\n",
        "\n",
        "def init_42(module):\n",
        "  if type(module) == nn.Linear:\n",
        "    nn.init.constant_(module.weight, 42)\n",
        "\n",
        "net[0].apply(init_xavier)\n",
        "net[2].apply(init_42)\n",
        "print(net[0].weight.data[0])\n",
        "print(net[2].weight.data)"
      ],
      "metadata": {
        "colab": {
          "base_uri": "https://localhost:8080/"
        },
        "id": "ObMjSC7Fix76",
        "outputId": "c84f6bdf-3d2c-451b-be24-c698cc03ab2a"
      },
      "execution_count": null,
      "outputs": [
        {
          "output_type": "stream",
          "name": "stdout",
          "text": [
            "tensor([0.0643, 0.2517, 0.0937, 0.5475])\n",
            "tensor([[42., 42., 42., 42., 42., 42., 42., 42.]])\n"
          ]
        },
        {
          "output_type": "stream",
          "name": "stderr",
          "text": [
            "<ipython-input-77-af56dd069071>:3: UserWarning: nn.init.xavier_uniform is now deprecated in favor of nn.init.xavier_uniform_.\n",
            "  nn.init.xavier_uniform(module.weight)\n"
          ]
        }
      ]
    },
    {
      "cell_type": "markdown",
      "source": [
        "####6.3.1.1. Custom Initialization"
      ],
      "metadata": {
        "id": "p1TP_RZOm6yt"
      }
    },
    {
      "cell_type": "code",
      "source": [],
      "metadata": {
        "id": "-btMbGVIm8Pq"
      },
      "execution_count": null,
      "outputs": []
    },
    {
      "cell_type": "markdown",
      "source": [
        "ω =\n",
        "1. 𝗨 (5,10) with P = 1/4\n",
        "2. 0 with P = 1/2\n",
        "3. 𝗨 (-10,5) with P = 1/4"
      ],
      "metadata": {
        "id": "as8BW-pynJeA"
      }
    },
    {
      "cell_type": "code",
      "source": [
        "def my_init(module):\n",
        "  if type(module) == nn.Linear:\n",
        "    print(\"Init\" , *[(name, param.shape) for name,\n",
        "                     param in module.named_parameters()][0]) # * inside print is for unpacking iterabale element, like iterater. ** for dictionary unpack\n",
        "    nn.init.uniform_(module.weight, -10, 10)\n",
        "    module.weight.data *= module.weight.data.abs() >= 5\n",
        "\n",
        "net.apply(my_init)\n",
        "net[0].weight[:2]\n"
      ],
      "metadata": {
        "colab": {
          "base_uri": "https://localhost:8080/"
        },
        "id": "OQYOSH_nnI0M",
        "outputId": "559c8a5f-8957-4d3b-986e-d1d24b86d37a"
      },
      "execution_count": null,
      "outputs": [
        {
          "output_type": "stream",
          "name": "stdout",
          "text": [
            "Init weight torch.Size([8, 4])\n",
            "Init weight torch.Size([1, 8])\n"
          ]
        },
        {
          "output_type": "execute_result",
          "data": {
            "text/plain": [
              "tensor([[-8.7334, -0.0000,  0.0000,  6.3641],\n",
              "        [-9.6881,  8.5172, -5.7856, -9.4963]], grad_fn=<SliceBackward0>)"
            ]
          },
          "metadata": {},
          "execution_count": 82
        }
      ]
    },
    {
      "cell_type": "code",
      "source": [
        "#Note that we always have the option of setting parameters directly.\n",
        "\n",
        "net[0].weight.data[:] += 1\n",
        "net[0].weight.data[0,0] = 42\n",
        "net[0].weight.data[0]"
      ],
      "metadata": {
        "colab": {
          "base_uri": "https://localhost:8080/"
        },
        "id": "7GGJhPsjvEeW",
        "outputId": "d6753c65-ead2-45aa-b5dc-825bfc18484d"
      },
      "execution_count": null,
      "outputs": [
        {
          "output_type": "execute_result",
          "data": {
            "text/plain": [
              "tensor([42.0000,  1.0000,  1.0000,  7.3641])"
            ]
          },
          "metadata": {},
          "execution_count": 83
        }
      ]
    },
    {
      "cell_type": "markdown",
      "source": [
        "Summary: We can initialize weight using built-in and custom initializers."
      ],
      "metadata": {
        "id": "ufyQfmktvmKU"
      }
    },
    {
      "cell_type": "code",
      "source": [],
      "metadata": {
        "id": "LwfrO0JZvlMt"
      },
      "execution_count": null,
      "outputs": []
    },
    {
      "cell_type": "markdown",
      "source": [
        "###Lazy Initialization\n"
      ],
      "metadata": {
        "id": "TmWNwhPasVT3"
      }
    },
    {
      "cell_type": "code",
      "source": [
        "import torch\n",
        "from torch import nn"
      ],
      "metadata": {
        "id": "5HVrWLYmwuhb"
      },
      "execution_count": null,
      "outputs": []
    },
    {
      "cell_type": "code",
      "source": [
        "net = nn.Sequential(nn.LazyLinear(256),nn.ReLU(),nn.LazyLinear(10))\n",
        "net[0].weight"
      ],
      "metadata": {
        "colab": {
          "base_uri": "https://localhost:8080/"
        },
        "id": "ty0Z6Enlw2-o",
        "outputId": "76e46b5a-2d94-4f96-b1fb-c99045cbd191"
      },
      "execution_count": null,
      "outputs": [
        {
          "output_type": "stream",
          "name": "stderr",
          "text": [
            "/usr/local/lib/python3.10/dist-packages/torch/nn/modules/lazy.py:180: UserWarning: Lazy modules are a new feature under heavy development so changes to the API or functionality can happen at any moment.\n",
            "  warnings.warn('Lazy modules are a new feature under heavy development '\n"
          ]
        },
        {
          "output_type": "execute_result",
          "data": {
            "text/plain": [
              "<UninitializedParameter>"
            ]
          },
          "metadata": {},
          "execution_count": 3
        }
      ]
    },
    {
      "cell_type": "code",
      "source": [
        "X = torch.rand(2,20)\n",
        "net(X)\n",
        "\n",
        "net[0].weight.shape"
      ],
      "metadata": {
        "colab": {
          "base_uri": "https://localhost:8080/"
        },
        "id": "OYACxq0LxLnU",
        "outputId": "4544eb87-8aed-491e-e2b9-623caa980086"
      },
      "execution_count": null,
      "outputs": [
        {
          "output_type": "execute_result",
          "data": {
            "text/plain": [
              "torch.Size([256, 20])"
            ]
          },
          "metadata": {},
          "execution_count": 5
        }
      ]
    },
    {
      "cell_type": "code",
      "source": [
        "def apply_init(self, inputs, init=None):\n",
        "    self.forward(*inputs)\n",
        "    if init is not None:\n",
        "        self.net.apply(init)"
      ],
      "metadata": {
        "id": "xTLQS5BJxb_Y"
      },
      "execution_count": null,
      "outputs": []
    },
    {
      "cell_type": "markdown",
      "source": [
        "### Custom Layers"
      ],
      "metadata": {
        "id": "NjMrozOSsPNl"
      }
    },
    {
      "cell_type": "code",
      "source": [
        "import torch\n",
        "from torch import nn\n",
        "from torch.nn import functional as F\n"
      ],
      "metadata": {
        "id": "02I7HnCDsUtR"
      },
      "execution_count": null,
      "outputs": []
    },
    {
      "cell_type": "markdown",
      "source": [
        "#### 6.5.1. Layers without Parameters"
      ],
      "metadata": {
        "id": "Ahh3MI3fsWSY"
      }
    },
    {
      "cell_type": "code",
      "source": [
        "#create a custom layer (CenteredLayer) that only subtract mean from input\n",
        "\n",
        "class CenteredLayer(nn.Module):\n",
        "  def __init__(self):\n",
        "    super().__init__()\n",
        "\n",
        "  def forward(self,X):\n",
        "    return X - X.mean()\n"
      ],
      "metadata": {
        "id": "EDa9dZYssa_9"
      },
      "execution_count": null,
      "outputs": []
    },
    {
      "cell_type": "code",
      "source": [
        "#Lets verify\n",
        "layer = CenteredLayer()\n",
        "layer(torch.tensor([1.0,2,3,4,5]))"
      ],
      "metadata": {
        "colab": {
          "base_uri": "https://localhost:8080/"
        },
        "id": "t6VuC4t5s7M_",
        "outputId": "6c4a509c-e345-4c6c-c8a6-f2d7fabd5279"
      },
      "execution_count": null,
      "outputs": [
        {
          "output_type": "execute_result",
          "data": {
            "text/plain": [
              "tensor([-2., -1.,  0.,  1.,  2.])"
            ]
          },
          "metadata": {},
          "execution_count": 3
        }
      ]
    },
    {
      "cell_type": "code",
      "source": [
        "net = nn.Sequential(nn.LazyLinear(128),CenteredLayer())"
      ],
      "metadata": {
        "colab": {
          "base_uri": "https://localhost:8080/"
        },
        "id": "T2OtnEzxtPKp",
        "outputId": "de21eea1-819c-4fc6-cf86-65771e56737b"
      },
      "execution_count": null,
      "outputs": [
        {
          "output_type": "stream",
          "name": "stderr",
          "text": [
            "/usr/local/lib/python3.10/dist-packages/torch/nn/modules/lazy.py:180: UserWarning: Lazy modules are a new feature under heavy development so changes to the API or functionality can happen at any moment.\n",
            "  warnings.warn('Lazy modules are a new feature under heavy development '\n"
          ]
        }
      ]
    },
    {
      "cell_type": "code",
      "source": [
        "Y = net(torch.rand(4,8))\n",
        "Y.mean()\n",
        "# check that the mean is in fact 0"
      ],
      "metadata": {
        "colab": {
          "base_uri": "https://localhost:8080/"
        },
        "id": "BWppsnmwtkKW",
        "outputId": "30b2839d-c2d9-41fa-d310-e4ae3bae7e40"
      },
      "execution_count": null,
      "outputs": [
        {
          "output_type": "execute_result",
          "data": {
            "text/plain": [
              "tensor(-1.8626e-09, grad_fn=<MeanBackward0>)"
            ]
          },
          "metadata": {},
          "execution_count": 7
        }
      ]
    },
    {
      "cell_type": "code",
      "source": [],
      "metadata": {
        "id": "Zz-ol85yt_Rd"
      },
      "execution_count": null,
      "outputs": []
    },
    {
      "cell_type": "markdown",
      "source": [
        "### 6.5.2. Layers with Parameters"
      ],
      "metadata": {
        "id": "zRYgsLv8uEuL"
      }
    },
    {
      "cell_type": "code",
      "source": [
        "class MyLinear(nn.Module):\n",
        "  def __init__(self, in_units, units):\n",
        "    super().__init__()\n",
        "    self.weight = nn.Parameter(torch.rand(in_units, units))\n",
        "    self.bias = nn.Parameter(torch.rand(units))\n",
        "\n",
        "  def forward(self,X):\n",
        "    linear = torch.matmul(X,self.weight.data) + self.bias.data\n",
        "    return F.relu(linear)"
      ],
      "metadata": {
        "id": "m2Xl_yH5uGR9"
      },
      "execution_count": null,
      "outputs": []
    },
    {
      "cell_type": "code",
      "source": [
        "linear =  MyLinear(5,3)"
      ],
      "metadata": {
        "id": "_cDJ5VXdzJMO"
      },
      "execution_count": null,
      "outputs": []
    },
    {
      "cell_type": "code",
      "source": [
        "linear.weight"
      ],
      "metadata": {
        "colab": {
          "base_uri": "https://localhost:8080/"
        },
        "id": "VMX84XHFzVnu",
        "outputId": "fe594e7e-7b42-4223-c196-8af9937a0e84"
      },
      "execution_count": null,
      "outputs": [
        {
          "output_type": "execute_result",
          "data": {
            "text/plain": [
              "Parameter containing:\n",
              "tensor([[0.7844, 0.8862, 0.1982],\n",
              "        [0.4260, 0.6863, 0.4683],\n",
              "        [0.0380, 0.7278, 0.8940],\n",
              "        [0.1555, 0.8407, 0.8935],\n",
              "        [0.9358, 0.4092, 0.3922]], requires_grad=True)"
            ]
          },
          "metadata": {},
          "execution_count": 16
        }
      ]
    },
    {
      "cell_type": "code",
      "source": [
        "linear(torch.rand(2, 5))\n",
        "# this is actually the same as invoking __call__ method, in pytorch, is invoking the forward method.\n",
        "# try linear.__call__(torch.rand(2, 5))\n"
      ],
      "metadata": {
        "colab": {
          "base_uri": "https://localhost:8080/"
        },
        "id": "JyM0metSzebi",
        "outputId": "8b22f66f-dda3-44fb-a18e-1f33c93176f0"
      },
      "execution_count": null,
      "outputs": [
        {
          "output_type": "execute_result",
          "data": {
            "text/plain": [
              "tensor([[1.4070, 2.4934, 2.1633],\n",
              "        [1.5917, 2.8725, 2.2693]])"
            ]
          },
          "metadata": {},
          "execution_count": 19
        }
      ]
    },
    {
      "cell_type": "code",
      "source": [
        "net = nn.Sequential(MyLinear(64,8), MyLinear(8,1))\n",
        "net(torch.rand(2,64))"
      ],
      "metadata": {
        "colab": {
          "base_uri": "https://localhost:8080/"
        },
        "id": "7pfloaeR8-Vg",
        "outputId": "133c9dd5-fd3c-4f98-f742-adb1d3b71133"
      },
      "execution_count": null,
      "outputs": [
        {
          "output_type": "execute_result",
          "data": {
            "text/plain": [
              "tensor([[58.8957],\n",
              "        [65.3897]])"
            ]
          },
          "metadata": {},
          "execution_count": 22
        }
      ]
    },
    {
      "cell_type": "markdown",
      "source": [
        "#### 6.5.3. Summary\n",
        "We can design custom layers via basic layer class. This allow us to define flexible layers that behave differently than exsiting layers in the library.\n",
        "Once defined, custom layers can be invoke in arbitrary contexts and architecture. Layers can have local parameters, which can be created through built-in functions."
      ],
      "metadata": {
        "id": "T--uweFb9pq5"
      }
    },
    {
      "cell_type": "markdown",
      "source": [
        "###6.6 File I/O"
      ],
      "metadata": {
        "id": "oBLIEiV7sO0b"
      }
    },
    {
      "cell_type": "code",
      "source": [
        "import torch\n",
        "from torch import nn\n",
        "from torch.nn import functional as F"
      ],
      "metadata": {
        "id": "GAiUdi009lOC"
      },
      "execution_count": null,
      "outputs": []
    },
    {
      "cell_type": "markdown",
      "source": [
        "6.6.1. Loading and Saving Tensors"
      ],
      "metadata": {
        "id": "RBURmvgFsf2-"
      }
    },
    {
      "cell_type": "code",
      "source": [
        "x = torch.arange(4)\n",
        "torch.save(x,'x-file')"
      ],
      "metadata": {
        "id": "ddxRDTBtsbRT"
      },
      "execution_count": null,
      "outputs": []
    },
    {
      "cell_type": "code",
      "source": [
        "x2 = torch.load('x-file')\n",
        "x2"
      ],
      "metadata": {
        "colab": {
          "base_uri": "https://localhost:8080/"
        },
        "id": "l5VTzfz4s-QJ",
        "outputId": "8e20313e-9854-4c60-fcb4-78e28cfb407c"
      },
      "execution_count": null,
      "outputs": [
        {
          "output_type": "execute_result",
          "data": {
            "text/plain": [
              "tensor([0, 1, 2, 3])"
            ]
          },
          "metadata": {},
          "execution_count": 7
        }
      ]
    },
    {
      "cell_type": "code",
      "source": [
        "#store a list of tensor\n",
        "y = torch.zeros(4)\n",
        "torch.save([x,y],'xy-file')\n",
        "\n",
        "x2,y2 = torch.load('xy-file')\n",
        "(x2,y2)"
      ],
      "metadata": {
        "colab": {
          "base_uri": "https://localhost:8080/"
        },
        "id": "9c2Z8psItKwd",
        "outputId": "ab21cbaa-185a-430a-908b-3e898e4538fe"
      },
      "execution_count": null,
      "outputs": [
        {
          "output_type": "execute_result",
          "data": {
            "text/plain": [
              "(tensor([0, 1, 2, 3]), tensor([0., 0., 0., 0.]))"
            ]
          },
          "metadata": {},
          "execution_count": 9
        }
      ]
    },
    {
      "cell_type": "code",
      "source": [
        "#for a dictionary\n",
        "mydict= {'x':x,'y':y}\n",
        "torch.save(mydict, 'mydictionary')\n",
        "\n",
        "mydict2 = torch.load('mydictionary')\n",
        "mydict2"
      ],
      "metadata": {
        "colab": {
          "base_uri": "https://localhost:8080/"
        },
        "id": "wyW0hJAotjBL",
        "outputId": "be30c6ed-a8fa-4f0e-9ad3-d2fa11c71bbb"
      },
      "execution_count": null,
      "outputs": [
        {
          "output_type": "execute_result",
          "data": {
            "text/plain": [
              "{'x': tensor([0, 1, 2, 3]), 'y': tensor([0., 0., 0., 0.])}"
            ]
          },
          "metadata": {},
          "execution_count": 10
        }
      ]
    },
    {
      "cell_type": "markdown",
      "source": [
        "####6.6.2. Loading and Saving Model Parameters"
      ],
      "metadata": {
        "id": "WOe6yBgrt-R9"
      }
    },
    {
      "cell_type": "code",
      "source": [
        "class MLP (nn.Module):\n",
        "  def __init__(self):\n",
        "    super().__init__()\n",
        "    self.hidden = nn.LazyLinear(256)\n",
        "    self.output = nn.LazyLinear(10)\n",
        "\n",
        "  def forward(self,x):\n",
        "    return self.output(F.relu(self.hidden(x)))\n",
        "\n",
        "net = MLP()\n",
        "X = torch.randn(size=(2,20))\n",
        "Y = net(X)"
      ],
      "metadata": {
        "colab": {
          "base_uri": "https://localhost:8080/"
        },
        "id": "amDSLT_qt7PJ",
        "outputId": "7334474c-5e1b-44b0-c6a0-d40461eae154"
      },
      "execution_count": null,
      "outputs": [
        {
          "output_type": "stream",
          "name": "stderr",
          "text": [
            "/usr/local/lib/python3.10/dist-packages/torch/nn/modules/lazy.py:180: UserWarning: Lazy modules are a new feature under heavy development so changes to the API or functionality can happen at any moment.\n",
            "  warnings.warn('Lazy modules are a new feature under heavy development '\n"
          ]
        }
      ]
    },
    {
      "cell_type": "code",
      "source": [
        "X"
      ],
      "metadata": {
        "colab": {
          "base_uri": "https://localhost:8080/"
        },
        "id": "Cr3VshXsw1r3",
        "outputId": "269cfe49-c38b-4142-88f9-db073f3aa0bb"
      },
      "execution_count": null,
      "outputs": [
        {
          "output_type": "execute_result",
          "data": {
            "text/plain": [
              "tensor([[-0.7928, -0.0663, -0.2453, -0.9785,  0.2009,  0.8218,  2.4029, -1.4202,\n",
              "         -0.3910, -0.1793, -0.2872,  0.6554, -1.5807, -0.5032,  0.9609,  0.9686,\n",
              "         -0.0731, -0.3477,  0.3109,  0.4188],\n",
              "        [ 0.7162, -0.1426,  0.2894, -0.6641, -0.7874, -0.6105,  1.2749, -0.3466,\n",
              "         -0.3231,  0.2535,  0.5200,  0.1050,  0.9187, -0.6158,  1.0635, -0.6953,\n",
              "          0.1327,  0.6849, -0.5376, -0.4759]])"
            ]
          },
          "metadata": {},
          "execution_count": 15
        }
      ]
    },
    {
      "cell_type": "markdown",
      "source": [
        "Next, we store the parameters of the model as a file with the name “mlp.params”."
      ],
      "metadata": {
        "id": "8JpCiNCiwAQ8"
      }
    },
    {
      "cell_type": "code",
      "source": [
        "torch.save(net.state_dict(),'mlp.params')"
      ],
      "metadata": {
        "id": "TSIJVYBKwBma"
      },
      "execution_count": null,
      "outputs": []
    },
    {
      "cell_type": "markdown",
      "source": [
        "To recover the model, we instantiate a clone of the original MLP model. Instead of randomly initializing the model parameters, we read the parameters stored in the file directly."
      ],
      "metadata": {
        "id": "iuCPfzn1wRY0"
      }
    },
    {
      "cell_type": "code",
      "source": [
        "clone = MLP()\n",
        "clone.load_state_dict(torch.load('mlp.params'))\n",
        "clone.eval()#Sets the module in evaluation mode."
      ],
      "metadata": {
        "colab": {
          "base_uri": "https://localhost:8080/"
        },
        "id": "34AfXIWGwThq",
        "outputId": "58f789f0-953f-4ad9-964f-8a66e2e9c505"
      },
      "execution_count": null,
      "outputs": [
        {
          "output_type": "stream",
          "name": "stderr",
          "text": [
            "/usr/local/lib/python3.10/dist-packages/torch/nn/modules/lazy.py:180: UserWarning: Lazy modules are a new feature under heavy development so changes to the API or functionality can happen at any moment.\n",
            "  warnings.warn('Lazy modules are a new feature under heavy development '\n"
          ]
        },
        {
          "output_type": "execute_result",
          "data": {
            "text/plain": [
              "MLP(\n",
              "  (hidden): LazyLinear(in_features=0, out_features=256, bias=True)\n",
              "  (output): LazyLinear(in_features=0, out_features=10, bias=True)\n",
              ")"
            ]
          },
          "metadata": {},
          "execution_count": 13
        }
      ]
    },
    {
      "cell_type": "code",
      "source": [
        "Y_clone = clone(X)\n",
        "Y == Y_clone"
      ],
      "metadata": {
        "colab": {
          "base_uri": "https://localhost:8080/"
        },
        "id": "Vm9krQzewn1j",
        "outputId": "3ec199c5-4913-48f8-bbdb-a8ec5e7dc81f"
      },
      "execution_count": null,
      "outputs": [
        {
          "output_type": "execute_result",
          "data": {
            "text/plain": [
              "tensor([[True, True, True, True, True, True, True, True, True, True],\n",
              "        [True, True, True, True, True, True, True, True, True, True]])"
            ]
          },
          "metadata": {},
          "execution_count": 16
        }
      ]
    },
    {
      "cell_type": "markdown",
      "source": [
        "#### Summary\n",
        "The save and load funciton can be used to perform file I/O for tensor objects.\n",
        "We can save and load the entire sets of parameters for a network via a parameter dictionary(state_dict()). Saving the architecture has to be done in code rather than in parameters."
      ],
      "metadata": {
        "id": "Qb6KTNcIxWYs"
      }
    },
    {
      "cell_type": "code",
      "source": [],
      "metadata": {
        "id": "_jqbzSOhyTPt"
      },
      "execution_count": null,
      "outputs": []
    },
    {
      "cell_type": "markdown",
      "source": [
        "###6.7 GPUs"
      ],
      "metadata": {
        "id": "hGz-Am-r6A7f"
      }
    },
    {
      "cell_type": "code",
      "source": [
        "import torch\n",
        "from torch import nn"
      ],
      "metadata": {
        "id": "SOy04Mmc6GgQ"
      },
      "execution_count": null,
      "outputs": []
    },
    {
      "cell_type": "code",
      "source": [
        "#!pip install d2l\n",
        "from d2l import torch as d2l"
      ],
      "metadata": {
        "id": "CXZzZOzq0Bvi"
      },
      "execution_count": null,
      "outputs": []
    },
    {
      "cell_type": "markdown",
      "source": [],
      "metadata": {
        "id": "SIHuuJvI01m2"
      }
    },
    {
      "cell_type": "code",
      "source": [
        "def cpu():\n",
        "  return torch.device('cpu')\n",
        "\n",
        "def gpu(i=0):\n",
        "  return torch.device(f'cuda:{i}')\n",
        "\n",
        "cpu(), gpu, gpu(1)"
      ],
      "metadata": {
        "colab": {
          "base_uri": "https://localhost:8080/"
        },
        "id": "NZPuTECX6OHP",
        "outputId": "70762aac-1640-430f-e066-bee043aac95c"
      },
      "execution_count": null,
      "outputs": [
        {
          "output_type": "execute_result",
          "data": {
            "text/plain": [
              "(device(type='cpu'),\n",
              " <function __main__.gpu(i=0)>,\n",
              " device(type='cuda', index=1))"
            ]
          },
          "metadata": {},
          "execution_count": 3
        }
      ]
    },
    {
      "cell_type": "code",
      "source": [
        "cpu(), gpu, gpu(1)"
      ],
      "metadata": {
        "colab": {
          "base_uri": "https://localhost:8080/"
        },
        "id": "prZp_Lrk6kwi",
        "outputId": "0f5e1770-d676-45ee-83ff-c623d23b18c3"
      },
      "execution_count": null,
      "outputs": [
        {
          "output_type": "execute_result",
          "data": {
            "text/plain": [
              "(device(type='cpu'),\n",
              " <function __main__.gpu(i=0)>,\n",
              " device(type='cuda', index=1))"
            ]
          },
          "metadata": {},
          "execution_count": 4
        }
      ]
    },
    {
      "cell_type": "code",
      "source": [
        "def num_gpus():\n",
        "  return torch.cuda.device_count()\n",
        "\n",
        "num_gpus()"
      ],
      "metadata": {
        "colab": {
          "base_uri": "https://localhost:8080/"
        },
        "id": "E9J77gHR6_B0",
        "outputId": "e6783d27-5475-4b5e-b3dd-f85ae5a7f599"
      },
      "execution_count": null,
      "outputs": [
        {
          "output_type": "execute_result",
          "data": {
            "text/plain": [
              "1"
            ]
          },
          "metadata": {},
          "execution_count": 5
        }
      ]
    },
    {
      "cell_type": "code",
      "source": [
        "def try_gpu(i=0):\n",
        "    \"\"\"Return gpu(i) if exists, otherwise return cpu().\"\"\"\n",
        "    if num_gpus() >= i + 1:\n",
        "        return gpu(i)\n",
        "    return cpu()\n",
        "\n",
        "def try_all_gpus():\n",
        "    \"\"\"Return all available GPUs, or [cpu(),] if no GPU exists.\"\"\"\n",
        "    return [gpu(i) for i in range(num_gpus())]\n",
        "\n",
        "try_gpu(), try_gpu(10), try_all_gpus()"
      ],
      "metadata": {
        "colab": {
          "base_uri": "https://localhost:8080/"
        },
        "id": "s054kway7RQl",
        "outputId": "66322586-390d-4ea9-a08c-da4bec515070"
      },
      "execution_count": null,
      "outputs": [
        {
          "output_type": "execute_result",
          "data": {
            "text/plain": [
              "(device(type='cuda', index=0),\n",
              " device(type='cpu'),\n",
              " [device(type='cuda', index=0)])"
            ]
          },
          "metadata": {},
          "execution_count": 6
        }
      ]
    },
    {
      "cell_type": "markdown",
      "source": [
        "6.7.2.1. Storage on the GPU"
      ],
      "metadata": {
        "id": "NRbbrstN1-OW"
      }
    },
    {
      "cell_type": "code",
      "source": [
        "X = torch.ones(2,3,device = try_gpu())\n",
        "X"
      ],
      "metadata": {
        "colab": {
          "base_uri": "https://localhost:8080/"
        },
        "id": "qayf2gz81_Xs",
        "outputId": "525da56e-9ff1-4f82-8da4-f5949daa86a9"
      },
      "execution_count": null,
      "outputs": [
        {
          "output_type": "execute_result",
          "data": {
            "text/plain": [
              "tensor([[1., 1., 1.],\n",
              "        [1., 1., 1.]], device='cuda:0')"
            ]
          },
          "metadata": {},
          "execution_count": 8
        }
      ]
    },
    {
      "cell_type": "code",
      "source": [
        "#Assuming that you have at least two GPUs, the following code\n",
        "#will create a random tensor, Y, on the second GPU.\n",
        "Y = torch.rand(2, 3, device=try_gpu(1))\n",
        "\n",
        "Y"
      ],
      "metadata": {
        "colab": {
          "base_uri": "https://localhost:8080/"
        },
        "id": "TwCmgis02i5V",
        "outputId": "06e5ff0d-3ebc-4bbc-c13a-4460e02d307b"
      },
      "execution_count": null,
      "outputs": [
        {
          "output_type": "execute_result",
          "data": {
            "text/plain": [
              "tensor([[0.3670, 0.5733, 0.9257],\n",
              "        [0.0450, 0.7257, 0.4121]])"
            ]
          },
          "metadata": {},
          "execution_count": 9
        }
      ]
    },
    {
      "cell_type": "code",
      "source": [
        "##"
      ],
      "metadata": {
        "id": "sjhHC8hK3fZC"
      },
      "execution_count": null,
      "outputs": []
    },
    {
      "cell_type": "markdown",
      "source": [
        "####Copying\n",
        "perform calculation (i.e. X + Y) on tensors that are saved on two different devices(gpus): decide where the to perform this operation.\n",
        "DO NOT simply add X and Y. Instead, use X.cuda(1) to copy tensor X to device_1"
      ],
      "metadata": {
        "id": "2UizpmCT3gt8"
      }
    },
    {
      "cell_type": "code",
      "source": [
        "# there is only 1 cuda(GPU) here.\n",
        "#Z = X.cuda(1)\n"
      ],
      "metadata": {
        "id": "YwxPha-t25Gd"
      },
      "execution_count": null,
      "outputs": []
    },
    {
      "cell_type": "markdown",
      "source": [
        "Transferring data is not only slow, it also makes parallelization a lot more difficult.\n",
        "Transferring is the overhead when perform operation interspersed in different device.\n",
        "\n",
        "This is the case since such operations can block if one device has to wait for the other before it can do something else. It is a bit like ordering your coffee in a queue rather than pre-ordering it by phone and finding out that it is ready when you are."
      ],
      "metadata": {
        "id": "1t6wyM1E5F0K"
      }
    }
  ]
}