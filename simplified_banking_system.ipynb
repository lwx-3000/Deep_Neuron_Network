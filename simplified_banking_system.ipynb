{
  "nbformat": 4,
  "nbformat_minor": 0,
  "metadata": {
    "colab": {
      "provenance": [],
      "authorship_tag": "ABX9TyNsHEnyDGURxiIMV0ZOrNey",
      "include_colab_link": true
    },
    "kernelspec": {
      "name": "python3",
      "display_name": "Python 3"
    },
    "language_info": {
      "name": "python"
    }
  },
  "cells": [
    {
      "cell_type": "markdown",
      "metadata": {
        "id": "view-in-github",
        "colab_type": "text"
      },
      "source": [
        "<a href=\"https://colab.research.google.com/github/lwx-3000/Deep_Neuron_Network/blob/main/simplified_banking_system.ipynb\" target=\"_parent\"><img src=\"https://colab.research.google.com/assets/colab-badge.svg\" alt=\"Open In Colab\"/></a>"
      ]
    },
    {
      "cell_type": "markdown",
      "source": [
        "# Simplified Banking System\n",
        "\n",
        "This project is a Python implementation of a simplified banking system. It is an object-oriented program that simulates basic features of a banking application, including account creation, deposits, transfers, payments, and account merging.\n",
        "\n",
        "\n",
        "## Features\n",
        "\n",
        "- **Level 1**: Account creation, deposits, and money transfers between accounts.\n",
        "- **Level 2**: Ranking accounts based on the total amount of outgoing transactions.\n",
        "- **Level 3**: Scheduling payments with cashback and checking the status of scheduled payments.\n",
        "- **Level 4**: (Planned) Merging two accounts while retaining balance and transaction histories.\n"
      ],
      "metadata": {
        "id": "jrBRhlc46x_U"
      }
    },
    {
      "cell_type": "markdown",
      "source": [
        "Level 1"
      ],
      "metadata": {
        "id": "H9QMymJU7JdO"
      }
    },
    {
      "cell_type": "code",
      "execution_count": null,
      "metadata": {
        "id": "NqHPzmt00Q8I"
      },
      "outputs": [],
      "source": [
        "class Account:\n",
        "    def __init__(self, account_id, balance=0):\n",
        "        self.account_id = account_id\n",
        "        self.balance = balance\n",
        "\n",
        "class Bank:\n",
        "    def __init__(self):\n",
        "        self.accounts = {}  # Maps account_id to Account object\n",
        "\n",
        "    def create_account(self, timestamp, account_id):\n",
        "        if account_id in self.accounts:\n",
        "            return \"false\"\n",
        "        self.accounts[account_id] = Account(account_id)\n",
        "        return \"true\"\n",
        "\n",
        "    def deposit(self, timestamp, account_id, amount):\n",
        "        if account_id not in self.accounts:\n",
        "            return \"\"\n",
        "        account = self.accounts[account_id]\n",
        "        account.balance += amount\n",
        "        return str(account.balance)\n",
        "\n",
        "    def transfer(self, timestamp, source_account_id, target_account_id, amount):\n",
        "        if source_account_id == target_account_id or source_account_id not in self.accounts or target_account_id not in self.accounts:\n",
        "            return \"\"\n",
        "        source_account = self.accounts[source_account_id]\n",
        "        target_account = self.accounts[target_account_id]\n",
        "        if source_account.balance < amount:\n",
        "            return \"\"\n",
        "        source_account.balance -= amount\n",
        "        target_account.balance += amount\n",
        "        return str(source_account.balance)\n",
        "\n"
      ]
    },
    {
      "cell_type": "markdown",
      "source": [
        "Level 2"
      ],
      "metadata": {
        "id": "yaLz1bGI7EAn"
      }
    },
    {
      "cell_type": "code",
      "source": [
        "class Account:\n",
        "    def __init__(self, account_id, balance=0):\n",
        "        self.account_id = account_id\n",
        "        self.balance = balance\n",
        "        self.outgoing_transactions = 0  # Total amount transferred out\n",
        "\n",
        "class Bank(Bank):\n",
        "    # Existing methods remain unchanged\n",
        "\n",
        "    def transfer(self, timestamp, source_account_id, target_account_id, amount):\n",
        "        if source_account_id == target_account_id or source_account_id not in self.accounts or target_account_id not in self.accounts:\n",
        "            return \"\"\n",
        "        source_account = self.accounts[source_account_id]\n",
        "        target_account = self.accounts[target_account_id]\n",
        "        if source_account.balance < amount:\n",
        "            return \"\"\n",
        "        source_account.balance -= amount\n",
        "        target_account.balance += amount\n",
        "        source_account.outgoing_transactions += amount  # Track outgoing transaction\n",
        "        return str(source_account.balance)\n",
        "\n",
        "    def top_spenders(self, timestamp, n):\n",
        "        # Sort accounts by outgoing transactions in descending order, then alphabetically\n",
        "        ranked_accounts = sorted(self.accounts.values(), key=lambda x: (-x.outgoing_transactions, x.account_id))\n",
        "        # Format output\n",
        "        result = \", \".join(f\"{account.account_id}({account.outgoing_transactions})\" for account in ranked_accounts[:n])\n",
        "        return result\n",
        "\n"
      ],
      "metadata": {
        "id": "kVY_hbo40mrU"
      },
      "execution_count": null,
      "outputs": []
    },
    {
      "cell_type": "markdown",
      "source": [
        "Level 3"
      ],
      "metadata": {
        "id": "CQLiggY47GFf"
      }
    },
    {
      "cell_type": "code",
      "source": [
        "\n",
        "class Account:\n",
        "    def __init__(self, account_id):\n",
        "        self.account_id = account_id\n",
        "        self.balance = 0\n",
        "        self.outgoing_transactions = 0  # For Level 2\n",
        "        self.scheduled_payments = []  # For Level 3\n",
        "\n",
        "    def make_payment(self, amount, timestamp):\n",
        "        payment_id = f\"payment{len(self.scheduled_payments) + 1}\"\n",
        "        cashback_amount = int(amount * 0.02)  # 2% cashback, rounded down\n",
        "        cashback_timestamp = int(timestamp) + 86400000  # 24 hours later\n",
        "        self.balance -= amount\n",
        "        self.outgoing_transactions += amount\n",
        "        self.scheduled_payments.append((payment_id, cashback_amount, cashback_timestamp, \"IN_PROGRESS\"))\n",
        "        return payment_id\n",
        "\n",
        "    def process_cashbacks(self, current_timestamp):\n",
        "        for i, (payment_id, cashback_amount, cashback_timestamp, status) in enumerate(self.scheduled_payments):\n",
        "            if current_timestamp >= cashback_timestamp and status == \"IN_PROGRESS\":\n",
        "                self.balance += cashback_amount  # Apply cashback\n",
        "                # Update the payment status directly in the list\n",
        "                self.scheduled_payments[i] = (payment_id, cashback_amount, cashback_timestamp, \"CASHBACK_RECEIVED\")\n",
        "\n",
        "    def get_payment_status(self, payment_id):\n",
        "        for pid, _, _, status in self.scheduled_payments:\n",
        "            if pid == payment_id:\n",
        "                return status\n",
        "        return \"\"\n",
        "\n",
        "class Bank:\n",
        "    def __init__(self):\n",
        "        self.accounts = {}\n",
        "\n",
        "    def create_account(self, timestamp, account_id):\n",
        "        if account_id in self.accounts:\n",
        "            return \"false\"\n",
        "        self.accounts[account_id] = Account(account_id)\n",
        "        return \"true\"\n",
        "\n",
        "    def deposit(self, timestamp, account_id, amount):\n",
        "        if account_id not in self.accounts:\n",
        "            return \"\"\n",
        "        self.accounts[account_id].balance += amount\n",
        "        return str(self.accounts[account_id].balance)\n",
        "\n",
        "    def transfer(self, timestamp, source_account_id, target_account_id, amount):\n",
        "        if source_account_id not in self.accounts or target_account_id not in self.accounts or source_account_id == target_account_id or self.accounts[source_account_id].balance < amount:\n",
        "            return \"\"\n",
        "        self.accounts[source_account_id].balance -= amount\n",
        "        self.accounts[target_account_id].balance += amount\n",
        "        self.accounts[source_account_id].outgoing_transactions += amount\n",
        "        return str(self.accounts[source_account_id].balance)\n",
        "\n",
        "    def top_spenders(self, timestamp, n):\n",
        "        # Sort accounts by outgoing transactions in descending order, then alphabetically\n",
        "        ranked_accounts = sorted(self.accounts.values(), key=lambda x: (-x.outgoing_transactions, x.account_id))\n",
        "        # Format output\n",
        "        result = \", \".join(f\"{account.account_id}({account.outgoing_transactions})\" for account in ranked_accounts[:n])\n",
        "        return result\n",
        "\n",
        "    def pay(self, timestamp, account_id, amount):\n",
        "        if account_id not in self.accounts or self.accounts[account_id].balance < amount:\n",
        "            return \"\"\n",
        "        return self.accounts[account_id].make_payment(amount, timestamp)\n",
        "\n",
        "    def get_payment_status(self, timestamp, account_id, payment_id):\n",
        "        if account_id not in self.accounts:\n",
        "            return \"\"\n",
        "        return self.accounts[account_id].get_payment_status(payment_id)\n",
        "\n",
        "    def process_all_cashbacks(self, current_timestamp):\n",
        "        for account in self.accounts.values():\n",
        "            account.process_cashbacks(current_timestamp)\n",
        "\n",
        "\n"
      ],
      "metadata": {
        "id": "cuh9aL57CHwX"
      },
      "execution_count": null,
      "outputs": []
    },
    {
      "cell_type": "markdown",
      "source": [
        "Level 4"
      ],
      "metadata": {
        "id": "Z8CGraqq7Rp_"
      }
    },
    {
      "cell_type": "code",
      "source": [
        "class Account(Account):\n",
        "\n",
        "    def merge_account(self, other_account):\n",
        "        # Add other account's balance to this one\n",
        "        self.balance += other_account.balance\n",
        "        # Merge outgoing transactions\n",
        "        self.outgoing_transactions += other_account.outgoing_transactions\n",
        "        # Merge scheduled payments and ensure payment IDs remain unique\n",
        "        self.scheduled_payments.extend(other_account.scheduled_payments)\n",
        "\n",
        "class Bank(Bank):\n",
        "    def merge_accounts(self, timestamp, account_id1, account_id2):\n",
        "        # Check if both accounts exist and are different\n",
        "        if account_id1 == account_id2 or account_id1 not in self.accounts or account_id2 not in self.accounts:\n",
        "            return \"false\"\n",
        "\n",
        "        # Merge account2 into account1\n",
        "        self.accounts[account_id1].merge_account(self.accounts[account_id2])\n",
        "\n",
        "        # Remove account2 from the system\n",
        "        del self.accounts[account_id2]\n",
        "\n",
        "        return \"true\"\n",
        "\n",
        "    def get_balance(self, timestamp, account_id):\n",
        "        # Check if the account exists\n",
        "        if account_id in self.accounts:\n",
        "            # Return the current balance of the account\n",
        "            return str(self.accounts[account_id].balance)\n",
        "        else:\n",
        "            # If the account doesn't exist, return an empty string\n",
        "            return \"\"\n"
      ],
      "metadata": {
        "id": "x4jUHjqGGsLl"
      },
      "execution_count": null,
      "outputs": []
    },
    {
      "cell_type": "code",
      "source": [
        "def process_queries(queries):\n",
        "    bank = Bank()\n",
        "    results = []\n",
        "\n",
        "    for query in queries:\n",
        "        operation, timestamp_str, *params = query\n",
        "        timestamp = int(timestamp_str)\n",
        "        bank.process_all_cashbacks(timestamp)\n",
        "\n",
        "        if operation == \"CREATE_ACCOUNT\":\n",
        "            _, _, account_id = query\n",
        "            result = bank.create_account(timestamp, account_id)\n",
        "        elif operation == \"PAY\":\n",
        "            _, _, account_id, amount = query\n",
        "            result = bank.pay(timestamp, account_id, int(amount))\n",
        "        elif operation == \"GET_PAYMENT_STATUS\":\n",
        "            _, _, account_id, payment_id = query\n",
        "            result = bank.get_payment_status(timestamp, account_id, payment_id)\n",
        "        elif operation == \"TOP_SPENDERS\":\n",
        "            _, _, n = query\n",
        "            result = bank.top_spenders(timestamp, int(n))\n",
        "        elif operation == \"DEPOSIT\":\n",
        "            _, _, account_id, amount = query\n",
        "            result = bank.deposit(timestamp, account_id, int(amount))\n",
        "        elif operation == \"TRANSFER\":\n",
        "            _, _, source_account_id, target_account_id, amount = query\n",
        "            result = bank.transfer(timestamp, source_account_id, target_account_id, int(amount))\n",
        "        elif operation == \"MERGE_ACCOUNTS\":\n",
        "            _, _, account_id1, account_id2 = query\n",
        "            result = bank.merge_accounts(timestamp, account_id1, account_id2)\n",
        "        elif operation == \"GET_BALANCE\":\n",
        "            _, _, account_id, _ = query\n",
        "            result = bank.get_balance(timestamp, account_id)\n",
        "        else:\n",
        "            result = \"Operation not supported at this level.\"\n",
        "\n",
        "        results.append(result)\n",
        "\n",
        "    return results\n"
      ],
      "metadata": {
        "id": "mf9DHQHoBcJ5"
      },
      "execution_count": null,
      "outputs": []
    },
    {
      "cell_type": "code",
      "source": [
        "queries = [\n",
        "    [\"CREATE_ACCOUNT\", \"1\", \"account1\"],\n",
        "    [\"CREATE_ACCOUNT\", \"2\", \"account1\"],\n",
        "    [\"CREATE_ACCOUNT\", \"3\", \"account2\"],\n",
        "    [\"DEPOSIT\", \"4\", \"non-existing\", \"2700\"],\n",
        "    [\"DEPOSIT\", \"5\", \"account1\", \"2700\"],\n",
        "    [\"TRANSFER\", \"6\", \"account1\", \"account2\", \"2701\"],\n",
        "    [\"TRANSFER\", \"7\", \"account1\", \"account2\", \"200\"]\n",
        "]\n",
        "\n",
        "results = process_queries(queries)\n",
        "print(results)\n",
        "#[\"true\", \"false\", \"true\", \"\", \"2700\", \"\", \"2500\"]"
      ],
      "metadata": {
        "colab": {
          "base_uri": "https://localhost:8080/"
        },
        "id": "VvET_qQDCG7R",
        "outputId": "37854bf9-320e-42ec-f501-457ce9b3b7ca"
      },
      "execution_count": null,
      "outputs": [
        {
          "output_type": "stream",
          "name": "stdout",
          "text": [
            "['true', 'false', 'true', '', '2700', '', '2500']\n"
          ]
        }
      ]
    },
    {
      "cell_type": "code",
      "source": [
        "queries = [\n",
        "    [\"CREATE_ACCOUNT\", \"1\", \"account3\"],\n",
        "    [\"CREATE_ACCOUNT\", \"2\", \"account2\"],\n",
        "    [\"CREATE_ACCOUNT\", \"3\", \"account1\"],\n",
        "    [\"DEPOSIT\", \"4\", \"account1\", \"2000\"],\n",
        "    [\"DEPOSIT\", \"5\", \"account2\", \"3000\"],\n",
        "    [\"DEPOSIT\", \"6\", \"account3\", \"4000\"],\n",
        "    [\"TOP_SPENDERS\", \"7\", \"3\"],\n",
        "    [\"TRANSFER\", \"8\", \"account3\", \"account2\", \"500\"],\n",
        "    [\"TRANSFER\", \"9\", \"account3\", \"account1\", \"1000\"],\n",
        "    [\"TRANSFER\", \"10\", \"account1\", \"account2\", \"2500\"],\n",
        "    [\"TOP_SPENDERS\", \"11\", \"3\"]\n",
        "]\n",
        "\n",
        "results = process_queries(queries)\n",
        "print(results)\n",
        "#[\"true\", \"true\", \"true\", \"2000\", \"3000\", \"4000\", \"account1(0), account2(0), account3(0)\", \"3500\", \"2500\", \"500\", \"account1(2500), account3(1500), account2(0)\""
      ],
      "metadata": {
        "colab": {
          "base_uri": "https://localhost:8080/"
        },
        "id": "doWjd7Lb0wtV",
        "outputId": "81d72a89-56b6-4f8b-b8ce-e19bcab13277"
      },
      "execution_count": null,
      "outputs": [
        {
          "output_type": "stream",
          "name": "stdout",
          "text": [
            "['true', 'true', 'true', '2000', '3000', '4000', 'account1(0), account2(0), account3(0)', '3500', '2500', '500', 'account1(2500), account3(1500), account2(0)']\n"
          ]
        }
      ]
    },
    {
      "cell_type": "code",
      "source": [
        "queries = [\n",
        "    [\"CREATE_ACCOUNT\", \"1\", \"account1\"],\n",
        "    [\"CREATE_ACCOUNT\", \"2\", \"account2\"],\n",
        "    [\"DEPOSIT\", \"3\", \"account1\", \"2000\"],\n",
        "    [\"PAY\", \"4\", \"account1\", \"1000\"],\n",
        "    [\"PAY\", \"100\", \"account1\", \"1000\"],\n",
        "    [\"GET_PAYMENT_STATUS\", \"101\", \"non-existing\", \"payment1\"],\n",
        "    [\"GET_PAYMENT_STATUS\", \"102\", \"account2\", \"payment1\"],\n",
        "    [\"GET_PAYMENT_STATUS\", \"103\", \"account1\", \"payment1\"],\n",
        "    [\"TOP_SPENDERS\", \"104\", \"2\"],\n",
        "    [\"DEPOSIT\", str(3 + 86400000), \"account1\", \"100\"],\n",
        "    [\"GET_PAYMENT_STATUS\", str(4 + 86400000), \"account1\", \"payment1\"],\n",
        "    [\"DEPOSIT\", str(5 + 86400000), \"account1\", \"100\"],\n",
        "    [\"DEPOSIT\", str(99 + 86400000), \"account1\", \"100\"],\n",
        "    [\"DEPOSIT\", str(100 + 86400000), \"account1\", \"100\"]\n",
        "    ]\n",
        "\n",
        "results = process_queries(queries)\n",
        "print(results)\n",
        "#Correct answer [\"true\", \"true\", \"2000\", \"payment1\", \"payment2\", \"\", \"\", \"IN_PROGRESS\", \"account1(2000), account2(0)\", \"100\", \"CASHBACK_RECEIVED\", \"220\", \"320\", \"440\"]"
      ],
      "metadata": {
        "colab": {
          "base_uri": "https://localhost:8080/"
        },
        "id": "bVSCTPCyCGCN",
        "outputId": "e83fa938-f627-4e48-926b-d37c246669d9"
      },
      "execution_count": null,
      "outputs": [
        {
          "output_type": "stream",
          "name": "stdout",
          "text": [
            "['true', 'true', '2000', 'payment1', 'payment2', '', '', 'IN_PROGRESS', 'account1(2000), account2(0)', '100', 'CASHBACK_RECEIVED', '220', '320', '440']\n"
          ]
        }
      ]
    },
    {
      "cell_type": "code",
      "source": [
        "\n",
        "queries = [\n",
        "[\"CREATE_ACCOUNT\", \"1\", \"account1\"],\n",
        "[\"CREATE_ACCOUNT\", \"2\", \"account2\"],\n",
        "[\"DEPOSIT\", \"3\", \"account1\", \"2000\"],\n",
        "[\"DEPOSIT\", \"4\", \"account2\", \"2000\"],\n",
        "[\"PAY\", \"5\", \"account2\", \"300\"],\n",
        "[\"TRANSFER\", \"6\", \"account1\", \"account2\", \"500\"],\n",
        "[\"MERGE_ACCOUNTS\", \"7\", \"account1\", \"non-existing\"],\n",
        "[\"MERGE_ACCOUNTS\", \"8\", \"account1\", \"account1\"],\n",
        "[\"MERGE_ACCOUNTS\", \"9\", \"account1\", \"account2\"],\n",
        "[\"DEPOSIT\", \"10\", \"account1\", \"100\"],\n",
        "[\"DEPOSIT\", \"11\", \"account2\", \"100\"],\n",
        "[\"GET_PAYMENT_STATUS\", \"12\", \"account2\", \"payment1\"],\n",
        "[\"GET_PAYMENT_STATUS\", \"13\", \"account1\", \"payment1\"],\n",
        "[\"GET_BALANCE\", \"14\", \"account2\", \"1\"],\n",
        "[\"GET_BALANCE\", \"15\", \"account2\", \"9\"],\n",
        "[\"GET_BALANCE\", \"16\", \"account1\", \"11\"],\n",
        "[\"DEPOSIT\", str(5 + 86400000), \"account1\", \"100\"]]\n",
        "results = process_queries(queries)\n",
        "print(results)\n",
        "\n",
        " #[\"true\", \"true\", \"2000\", \"2000\", \"payment1\", \"1500\", \"false\", \"false\", \"true\", \"3800\", \"\", \"\", \"IN_PROGRESS\", \"\", \"\", \"3800\", \"3906\"]"
      ],
      "metadata": {
        "colab": {
          "base_uri": "https://localhost:8080/"
        },
        "id": "sTSszB5EGhER",
        "outputId": "6c591b92-fe26-48fa-c489-030970cc059a"
      },
      "execution_count": null,
      "outputs": [
        {
          "output_type": "stream",
          "name": "stdout",
          "text": [
            "['true', 'true', '2000', '2000', 'payment1', '1500', 'false', 'false', 'true', '3800', '', '', 'IN_PROGRESS', '', '', '3800', '3906']\n"
          ]
        }
      ]
    },
    {
      "cell_type": "code",
      "source": [
        "queries = [\n",
        "[\"CREATE_ACCOUNT\", \"1\", \"account1\"],\n",
        "[\"DEPOSIT\", \"2\", \"account1\", \"1000\"],\n",
        "[\"PAY\", \"3\", \"account1\", \"300\"],\n",
        "[\"GET_BALANCE\", \"4\", \"account1\", \"3\"],\n",
        "[\"GET_BALANCE\", str(5 + 86400000), \"account1\", str(2 + 86400000)],\n",
        "[\"GET_BALANCE\", str(6 + 86400000), \"account1\", str(3 + 86400000)]]\n",
        "#[\"true\", \"1000\", \"payment1\", \"700\", \"700\", \"706\"].\n",
        "results = process_queries(queries)\n",
        "print(results)"
      ],
      "metadata": {
        "colab": {
          "base_uri": "https://localhost:8080/"
        },
        "id": "mTiq_hnvKLNJ",
        "outputId": "860e0df8-7ce8-48a8-c31a-5d593deb5f7b"
      },
      "execution_count": null,
      "outputs": [
        {
          "output_type": "stream",
          "name": "stdout",
          "text": [
            "['true', '1000', 'payment1', '700', '706', '706']\n"
          ]
        }
      ]
    }
  ]
}